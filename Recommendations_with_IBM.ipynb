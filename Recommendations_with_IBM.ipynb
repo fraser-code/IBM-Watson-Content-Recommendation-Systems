{
 "cells": [
  {
   "cell_type": "markdown",
   "metadata": {},
   "source": [
    "# Recommendation System Project: IBM Community\n",
    "# By Fraser Fernandes\n",
    "\n",
    "\n",
    "## Table of Contents\n",
    "\n",
    "I. [Exploratory Data Analysis](#Exploratory-Data-Analysis)<br>\n",
    "II. [Rank Based Recommendations](#Rank)<br>\n",
    "III. [User-User Based Collaborative Filtering](#User-User)<br>\n",
    "IV. [Content Based Recommendations](#Content-Recs)<br>\n",
    "V. [Matrix Factorization](#Matrix-Fact)<br>\n",
    "VI. [Extras & Concluding](#conclusions)"
   ]
  },
  {
   "cell_type": "code",
   "execution_count": 1,
   "metadata": {},
   "outputs": [
    {
     "data": {
      "text/html": [
       "<div>\n",
       "<style scoped>\n",
       "    .dataframe tbody tr th:only-of-type {\n",
       "        vertical-align: middle;\n",
       "    }\n",
       "\n",
       "    .dataframe tbody tr th {\n",
       "        vertical-align: top;\n",
       "    }\n",
       "\n",
       "    .dataframe thead th {\n",
       "        text-align: right;\n",
       "    }\n",
       "</style>\n",
       "<table border=\"1\" class=\"dataframe\">\n",
       "  <thead>\n",
       "    <tr style=\"text-align: right;\">\n",
       "      <th></th>\n",
       "      <th>Unnamed: 0</th>\n",
       "      <th>article_id</th>\n",
       "      <th>title</th>\n",
       "      <th>email</th>\n",
       "    </tr>\n",
       "  </thead>\n",
       "  <tbody>\n",
       "    <tr>\n",
       "      <th>0</th>\n",
       "      <td>0</td>\n",
       "      <td>1430</td>\n",
       "      <td>using pixiedust for fast, flexible, and easier...</td>\n",
       "      <td>ef5f11f77ba020cd36e1105a00ab868bbdbf7fe7</td>\n",
       "    </tr>\n",
       "    <tr>\n",
       "      <th>1</th>\n",
       "      <td>1</td>\n",
       "      <td>1314</td>\n",
       "      <td>healthcare python streaming application demo</td>\n",
       "      <td>083cbdfa93c8444beaa4c5f5e0f5f9198e4f9e0b</td>\n",
       "    </tr>\n",
       "    <tr>\n",
       "      <th>2</th>\n",
       "      <td>2</td>\n",
       "      <td>1429</td>\n",
       "      <td>use deep learning for image classification</td>\n",
       "      <td>b96a4f2e92d8572034b1e9b28f9ac673765cd074</td>\n",
       "    </tr>\n",
       "    <tr>\n",
       "      <th>3</th>\n",
       "      <td>3</td>\n",
       "      <td>1338</td>\n",
       "      <td>ml optimization using cognitive assistant</td>\n",
       "      <td>06485706b34a5c9bf2a0ecdac41daf7e7654ceb7</td>\n",
       "    </tr>\n",
       "    <tr>\n",
       "      <th>4</th>\n",
       "      <td>4</td>\n",
       "      <td>1276</td>\n",
       "      <td>deploy your python model as a restful api</td>\n",
       "      <td>f01220c46fc92c6e6b161b1849de11faacd7ccb2</td>\n",
       "    </tr>\n",
       "  </tbody>\n",
       "</table>\n",
       "</div>"
      ],
      "text/plain": [
       "   Unnamed: 0  article_id                                              title  \\\n",
       "0           0        1430  using pixiedust for fast, flexible, and easier...   \n",
       "1           1        1314       healthcare python streaming application demo   \n",
       "2           2        1429         use deep learning for image classification   \n",
       "3           3        1338          ml optimization using cognitive assistant   \n",
       "4           4        1276          deploy your python model as a restful api   \n",
       "\n",
       "                                      email  \n",
       "0  ef5f11f77ba020cd36e1105a00ab868bbdbf7fe7  \n",
       "1  083cbdfa93c8444beaa4c5f5e0f5f9198e4f9e0b  \n",
       "2  b96a4f2e92d8572034b1e9b28f9ac673765cd074  \n",
       "3  06485706b34a5c9bf2a0ecdac41daf7e7654ceb7  \n",
       "4  f01220c46fc92c6e6b161b1849de11faacd7ccb2  "
      ]
     },
     "execution_count": 1,
     "metadata": {},
     "output_type": "execute_result"
    }
   ],
   "source": [
    "import pandas as pd\n",
    "import numpy as np\n",
    "import matplotlib.pyplot as plt\n",
    "import project_tests as t\n",
    "\n",
    "\n",
    "df = pd.read_csv(\n",
    "    'data/user-item-interactions.csv', \n",
    "    dtype={'article_id': int, 'title': str, 'email': str}\n",
    ")\n",
    "\n",
    "df.head()"
   ]
  },
  {
   "cell_type": "markdown",
   "metadata": {},
   "source": [
    "### <a class=\"anchor\" id=\"Exploratory-Data-Analysis\">Part I : Exploratory Data Analysis</a>"
   ]
  },
  {
   "cell_type": "markdown",
   "metadata": {},
   "source": [
    "#### Treating Null Values"
   ]
  },
  {
   "cell_type": "code",
   "execution_count": 2,
   "metadata": {},
   "outputs": [
    {
     "name": "stdout",
     "output_type": "stream",
     "text": [
      "<class 'pandas.core.frame.DataFrame'>\n",
      "RangeIndex: 45993 entries, 0 to 45992\n",
      "Data columns (total 4 columns):\n",
      " #   Column      Non-Null Count  Dtype \n",
      "---  ------      --------------  ----- \n",
      " 0   Unnamed: 0  45993 non-null  int64 \n",
      " 1   article_id  45993 non-null  int64 \n",
      " 2   title       45993 non-null  object\n",
      " 3   email       45976 non-null  object\n",
      "dtypes: int64(2), object(2)\n",
      "memory usage: 1.4+ MB\n"
     ]
    }
   ],
   "source": [
    "df.info()\n",
    "df.drop(['Unnamed: 0'], axis = 1, inplace = True)\n",
    "nans = df.isna().sum()"
   ]
  },
  {
   "cell_type": "code",
   "execution_count": 3,
   "metadata": {},
   "outputs": [
    {
     "name": "stdout",
     "output_type": "stream",
     "text": [
      "Number of Null email values is: article_id     0\n",
      "title          0\n",
      "email         17\n",
      "dtype: int64\n"
     ]
    }
   ],
   "source": [
    "print(f\"Number of Null email values is: {nans}\")"
   ]
  },
  {
   "cell_type": "code",
   "execution_count": 4,
   "metadata": {},
   "outputs": [
    {
     "data": {
      "text/plain": [
       "np.int64(0)"
      ]
     },
     "execution_count": 4,
     "metadata": {},
     "output_type": "execute_result"
    }
   ],
   "source": [
    "df['email'] = df['email'].fillna('unknown_user')\n",
    "df['email'].isna().sum()"
   ]
  },
  {
   "cell_type": "markdown",
   "metadata": {},
   "source": [
    "#### Descriptive statistics for the number of articles read per user (email)"
   ]
  },
  {
   "cell_type": "code",
   "execution_count": 5,
   "metadata": {},
   "outputs": [
    {
     "data": {
      "text/plain": [
       "count    5149.000000\n",
       "mean        8.932414\n",
       "std        16.801011\n",
       "min         1.000000\n",
       "25%         1.000000\n",
       "50%         3.000000\n",
       "75%         9.000000\n",
       "max       364.000000\n",
       "Name: article_id, dtype: float64"
      ]
     },
     "execution_count": 5,
     "metadata": {},
     "output_type": "execute_result"
    }
   ],
   "source": [
    "user_article_counts = df.groupby('email')['article_id'].count()\n",
    "user_article_counts.describe()"
   ]
  },
  {
   "cell_type": "markdown",
   "metadata": {},
   "source": [
    "#### Distribution of User Engagement: Articles Read per User"
   ]
  },
  {
   "cell_type": "code",
   "execution_count": 6,
   "metadata": {},
   "outputs": [
    {
     "data": {
      "image/png": "[encoded data removed]",
      "text/plain": [
       "<Figure size 800x500 with 1 Axes>"
      ]
     },
     "metadata": {},
     "output_type": "display_data"
    }
   ],
   "source": [
    "user_article_counts = df.groupby('email')['article_id'].count()\n",
    "\n",
    "plt.figure(figsize=(8, 5))\n",
    "plt.hist(user_article_counts, bins=30, edgecolor='k')\n",
    "\n",
    "plt.xlabel('number of articles')\n",
    "plt.ylabel('number of users')\n",
    "plt.title('Number of Users Reading Articles')\n",
    "\n",
    "plt.show()"
   ]
  },
  {
   "cell_type": "markdown",
   "metadata": {},
   "source": [
    "#### Distribution of Article Popularity: Users per Article"
   ]
  },
  {
   "cell_type": "code",
   "execution_count": 7,
   "metadata": {},
   "outputs": [
    {
     "data": {
      "image/png": "[encoded data removed]",
      "text/plain": [
       "<Figure size 800x500 with 1 Axes>"
      ]
     },
     "metadata": {},
     "output_type": "display_data"
    }
   ],
   "source": [
    "article_user_counts = df.groupby('article_id')['email'].count()\n",
    "\n",
    "plt.figure(figsize=(8,5))\n",
    "plt.hist(article_user_counts, bins = 50, edgecolor='k')\n",
    "\n",
    "plt.xlabel('number of users per article')\n",
    "plt.ylabel('number of articles')\n",
    "plt.title('Distribution of Article Usage')\n",
    "plt.show()"
   ]
  },
  {
   "cell_type": "code",
   "execution_count": 8,
   "metadata": {},
   "outputs": [],
   "source": [
    "median_val =  user_article_counts.median()\n",
    "max_views_by_user =  user_article_counts.max()"
   ]
  },
  {
   "cell_type": "code",
   "execution_count": 9,
   "metadata": {},
   "outputs": [
    {
     "name": "stdout",
     "output_type": "stream",
     "text": [
      "The Median number of articles read per user is 3\n",
      "The most number of articles ready by a user is 364\n"
     ]
    }
   ],
   "source": [
    "print(f\"The Median number of articles read per user is {int(median_val)}\")\n",
    "print(f\"The most number of articles ready by a user is {max_views_by_user}\")"
   ]
  },
  {
   "cell_type": "code",
   "execution_count": 10,
   "metadata": {},
   "outputs": [],
   "source": [
    "unique_articles = df['article_id'].nunique()\n",
    "total_articles =  df['article_id'].nunique()\n",
    "unique_users =  df['email'].nunique()\n",
    "user_article_interactions =  df['article_id'].count()"
   ]
  },
  {
   "cell_type": "code",
   "execution_count": 11,
   "metadata": {},
   "outputs": [
    {
     "name": "stdout",
     "output_type": "stream",
     "text": [
      "Users have interacted with 714\n",
      "We have 5149 unique users are on our dataset\n",
      "Our dataset captures 45993 unique interactions\n"
     ]
    }
   ],
   "source": [
    "print(f\"Users have interacted with {unique_articles}\")\n",
    "print(f\"We have {unique_users} unique users are on our dataset\")\n",
    "print(f\"Our dataset captures {user_article_interactions} unique interactions\")"
   ]
  },
  {
   "cell_type": "code",
   "execution_count": 12,
   "metadata": {},
   "outputs": [],
   "source": [
    "most_viewed_article_id =  article_user_counts[article_user_counts == article_user_counts.max()].keys()[0]\n",
    "max_views =  article_user_counts.max()"
   ]
  },
  {
   "cell_type": "code",
   "execution_count": 13,
   "metadata": {},
   "outputs": [
    {
     "name": "stdout",
     "output_type": "stream",
     "text": [
      "Article ID 1429 is the most viewed article with 937 views\n"
     ]
    }
   ],
   "source": [
    "print(f\"Article ID {most_viewed_article_id} is the most viewed article with {max_views} views\")"
   ]
  },
  {
   "cell_type": "markdown",
   "metadata": {},
   "source": [
    "#### Creating a Mapping Function to assign User IDs"
   ]
  },
  {
   "cell_type": "code",
   "execution_count": 14,
   "metadata": {},
   "outputs": [
    {
     "data": {
      "text/html": [
       "<div>\n",
       "<style scoped>\n",
       "    .dataframe tbody tr th:only-of-type {\n",
       "        vertical-align: middle;\n",
       "    }\n",
       "\n",
       "    .dataframe tbody tr th {\n",
       "        vertical-align: top;\n",
       "    }\n",
       "\n",
       "    .dataframe thead th {\n",
       "        text-align: right;\n",
       "    }\n",
       "</style>\n",
       "<table border=\"1\" class=\"dataframe\">\n",
       "  <thead>\n",
       "    <tr style=\"text-align: right;\">\n",
       "      <th></th>\n",
       "      <th>article_id</th>\n",
       "      <th>title</th>\n",
       "      <th>user_id</th>\n",
       "    </tr>\n",
       "  </thead>\n",
       "  <tbody>\n",
       "    <tr>\n",
       "      <th>0</th>\n",
       "      <td>1430</td>\n",
       "      <td>using pixiedust for fast, flexible, and easier...</td>\n",
       "      <td>1</td>\n",
       "    </tr>\n",
       "    <tr>\n",
       "      <th>1</th>\n",
       "      <td>1314</td>\n",
       "      <td>healthcare python streaming application demo</td>\n",
       "      <td>2</td>\n",
       "    </tr>\n",
       "    <tr>\n",
       "      <th>2</th>\n",
       "      <td>1429</td>\n",
       "      <td>use deep learning for image classification</td>\n",
       "      <td>3</td>\n",
       "    </tr>\n",
       "    <tr>\n",
       "      <th>3</th>\n",
       "      <td>1338</td>\n",
       "      <td>ml optimization using cognitive assistant</td>\n",
       "      <td>4</td>\n",
       "    </tr>\n",
       "    <tr>\n",
       "      <th>4</th>\n",
       "      <td>1276</td>\n",
       "      <td>deploy your python model as a restful api</td>\n",
       "      <td>5</td>\n",
       "    </tr>\n",
       "  </tbody>\n",
       "</table>\n",
       "</div>"
      ],
      "text/plain": [
       "   article_id                                              title  user_id\n",
       "0        1430  using pixiedust for fast, flexible, and easier...        1\n",
       "1        1314       healthcare python streaming application demo        2\n",
       "2        1429         use deep learning for image classification        3\n",
       "3        1338          ml optimization using cognitive assistant        4\n",
       "4        1276          deploy your python model as a restful api        5"
      ]
     },
     "execution_count": 14,
     "metadata": {},
     "output_type": "execute_result"
    }
   ],
   "source": [
    "def email_mapper(df=df):\n",
    "    coded_dict = {\n",
    "        email: num \n",
    "        for num, email in enumerate(df['email'].unique(), start=1)\n",
    "    }\n",
    "    return [coded_dict[val] for val in df['email']]\n",
    "\n",
    "df['user_id'] = email_mapper(df)\n",
    "del df['email']\n",
    "\n",
    "df.head()"
   ]
  },
  {
   "cell_type": "markdown",
   "metadata": {},
   "source": [
    "### Test 1"
   ]
  },
  {
   "cell_type": "code",
   "execution_count": 15,
   "metadata": {},
   "outputs": [
    {
     "name": "stdout",
     "output_type": "stream",
     "text": [
      "It looks like you have everything right here! Nice job!\n"
     ]
    }
   ],
   "source": [
    "sol_1_dict = {\n",
    "    '`50% of individuals have _____ or fewer interactions.`': median_val,\n",
    "    '`The total number of user-article interactions in the dataset is ______.`': user_article_interactions,\n",
    "    '`The maximum number of user-article interactions by any 1 user is ______.`': max_views_by_user,\n",
    "    '`The most viewed article in the dataset was viewed _____ times.`': max_views,\n",
    "    '`The article_id of the most viewed article is ______.`': most_viewed_article_id,\n",
    "    '`The number of unique articles that have at least 1 rating ______.`': unique_articles,\n",
    "    '`The number of unique users in the dataset is ______`': unique_users,\n",
    "    '`The number of unique articles on the IBM platform`': total_articles\n",
    "}\n",
    "\n",
    "t.sol_1_test(sol_1_dict)"
   ]
  },
  {
   "cell_type": "markdown",
   "metadata": {},
   "source": [
    "### <a class=\"anchor\" id=\"Rank\">Part II: Rank-Based Recommendations</a>\n",
    "\n",
    "Rank-based recommendations suggest items based on their overall popularity or engagement metrics, such as the most-viewed or highest-rated content. This method does not consider individual user preferences but ensures widely liked items are recommended."
   ]
  },
  {
   "cell_type": "markdown",
   "metadata": {},
   "source": [
    "#### Functions to Retrieve the Most Popular Articles"
   ]
  },
  {
   "cell_type": "code",
   "execution_count": 16,
   "metadata": {},
   "outputs": [],
   "source": [
    "def get_top_articles(n, df=df):\n",
    "    \"\"\"\n",
    "    INPUT:\n",
    "    n - (int) the number of top articles to return\n",
    "    df - (pandas dataframe) dataset containing article interactions\n",
    "    \n",
    "    OUTPUT:\n",
    "    top_articles - (list) A list of the top 'n' article titles  \n",
    "    \"\"\"\n",
    "    \n",
    "    # Count the number of users who interacted with each article\n",
    "    article_user_counts = df.groupby('article_id')['user_id'].count()\n",
    "    \n",
    "    # Sort articles by interaction count in descending order\n",
    "    top_ids = pd.DataFrame(article_user_counts.sort_values(ascending=False)).drop(['user_id'], axis=1)\n",
    "    \n",
    "    # Map article IDs to their corresponding titles\n",
    "    title_map = df.groupby('article_id')['title'].first()\n",
    "    \n",
    "    # Join the sorted article IDs with their titles\n",
    "    top_articles = top_ids.join(title_map)\n",
    "    \n",
    "    return top_articles['title'].tolist()[:n]\n",
    "\n",
    "\n",
    "def get_top_article_ids(n, df=df):\n",
    "    \"\"\"\n",
    "    INPUT:\n",
    "    n - (int) the number of top articles to return\n",
    "    df - (pandas dataframe) dataset containing article interactions\n",
    "    \n",
    "    OUTPUT:\n",
    "    top_articles - (list) A list of the top 'n' article IDs  \n",
    "    \"\"\"\n",
    "    \n",
    "    # Sort articles by interaction count and return the top 'n' article IDs\n",
    "    top_articles = df.groupby('article_id')['user_id'].count().rename('views').sort_values(ascending=False).keys().tolist()[:n]\n",
    "     \n",
    "    return top_articles\n"
   ]
  },
  {
   "cell_type": "code",
   "execution_count": 17,
   "metadata": {
    "scrolled": true
   },
   "outputs": [
    {
     "name": "stdout",
     "output_type": "stream",
     "text": [
      "Top 10 Articles:\n",
      "1429 - use deep learning for image classification\n",
      "1330 - insights from new york car accident reports\n",
      "1431 - visualize car data with brunel\n",
      "1427 - use xgboost, scikit-learn & ibm watson machine learning apis\n",
      "1364 - predicting churn with the spss random tree algorithm\n",
      "1314 - healthcare python streaming application demo\n",
      "1293 - finding optimal locations of new store using decision optimization\n",
      "1170 - apache spark lab, part 1: basic concepts\n",
      "1162 - analyze energy consumption in buildings\n",
      "1304 - gosales transactions for logistic regression model\n"
     ]
    }
   ],
   "source": [
    "print('Top 10 Articles:')\n",
    "top_10_article = dict(zip(get_top_article_ids(10), get_top_articles(10)))\n",
    "for i in top_10_article.keys():\n",
    "    print(f'{i} - {top_10_article[i]}')"
   ]
  },
  {
   "cell_type": "markdown",
   "metadata": {},
   "source": [
    "### Test 2"
   ]
  },
  {
   "cell_type": "code",
   "execution_count": 18,
   "metadata": {},
   "outputs": [
    {
     "name": "stdout",
     "output_type": "stream",
     "text": [
      "Your top_5 looks like the solution list! Nice job.\n",
      "Your top_10 looks like the solution list! Nice job.\n",
      "Your top_20 looks like the solution list! Nice job.\n"
     ]
    }
   ],
   "source": [
    "top_5 = get_top_articles(5)\n",
    "top_10 = get_top_articles(10)\n",
    "top_20 = get_top_articles(20)\n",
    "\n",
    "t.sol_2_test(get_top_articles)"
   ]
  },
  {
   "cell_type": "markdown",
   "metadata": {},
   "source": [
    "### <a class=\"anchor\" id=\"User-User\">Part III: User-User Based Collaborative Filtering</a>\n",
    "\n",
    "Collaborative filtering is a recommendation technique that suggests items based on user interactions and preferences. It identifies patterns by finding users with similar behaviors and recommending items they liked."
   ]
  },
  {
   "cell_type": "code",
   "execution_count": 19,
   "metadata": {
    "scrolled": true
   },
   "outputs": [
    {
     "data": {
      "text/html": [
       "<div>\n",
       "<style scoped>\n",
       "    .dataframe tbody tr th:only-of-type {\n",
       "        vertical-align: middle;\n",
       "    }\n",
       "\n",
       "    .dataframe tbody tr th {\n",
       "        vertical-align: top;\n",
       "    }\n",
       "\n",
       "    .dataframe thead th {\n",
       "        text-align: right;\n",
       "    }\n",
       "</style>\n",
       "<table border=\"1\" class=\"dataframe\">\n",
       "  <thead>\n",
       "    <tr style=\"text-align: right;\">\n",
       "      <th></th>\n",
       "      <th>article_id</th>\n",
       "      <th>title</th>\n",
       "      <th>user_id</th>\n",
       "    </tr>\n",
       "  </thead>\n",
       "  <tbody>\n",
       "    <tr>\n",
       "      <th>0</th>\n",
       "      <td>1430</td>\n",
       "      <td>using pixiedust for fast, flexible, and easier...</td>\n",
       "      <td>1</td>\n",
       "    </tr>\n",
       "    <tr>\n",
       "      <th>1</th>\n",
       "      <td>1314</td>\n",
       "      <td>healthcare python streaming application demo</td>\n",
       "      <td>2</td>\n",
       "    </tr>\n",
       "    <tr>\n",
       "      <th>2</th>\n",
       "      <td>1429</td>\n",
       "      <td>use deep learning for image classification</td>\n",
       "      <td>3</td>\n",
       "    </tr>\n",
       "    <tr>\n",
       "      <th>3</th>\n",
       "      <td>1338</td>\n",
       "      <td>ml optimization using cognitive assistant</td>\n",
       "      <td>4</td>\n",
       "    </tr>\n",
       "    <tr>\n",
       "      <th>4</th>\n",
       "      <td>1276</td>\n",
       "      <td>deploy your python model as a restful api</td>\n",
       "      <td>5</td>\n",
       "    </tr>\n",
       "    <tr>\n",
       "      <th>...</th>\n",
       "      <td>...</td>\n",
       "      <td>...</td>\n",
       "      <td>...</td>\n",
       "    </tr>\n",
       "    <tr>\n",
       "      <th>45988</th>\n",
       "      <td>1324</td>\n",
       "      <td>ibm watson facebook posts for 2015</td>\n",
       "      <td>5146</td>\n",
       "    </tr>\n",
       "    <tr>\n",
       "      <th>45989</th>\n",
       "      <td>142</td>\n",
       "      <td>neural networks for beginners: popular types a...</td>\n",
       "      <td>5146</td>\n",
       "    </tr>\n",
       "    <tr>\n",
       "      <th>45990</th>\n",
       "      <td>233</td>\n",
       "      <td>bayesian nonparametric models – stats and bots</td>\n",
       "      <td>5147</td>\n",
       "    </tr>\n",
       "    <tr>\n",
       "      <th>45991</th>\n",
       "      <td>1160</td>\n",
       "      <td>analyze accident reports on amazon emr spark</td>\n",
       "      <td>5148</td>\n",
       "    </tr>\n",
       "    <tr>\n",
       "      <th>45992</th>\n",
       "      <td>16</td>\n",
       "      <td>higher-order logistic regression for large dat...</td>\n",
       "      <td>5149</td>\n",
       "    </tr>\n",
       "  </tbody>\n",
       "</table>\n",
       "<p>45993 rows × 3 columns</p>\n",
       "</div>"
      ],
      "text/plain": [
       "       article_id                                              title  user_id\n",
       "0            1430  using pixiedust for fast, flexible, and easier...        1\n",
       "1            1314       healthcare python streaming application demo        2\n",
       "2            1429         use deep learning for image classification        3\n",
       "3            1338          ml optimization using cognitive assistant        4\n",
       "4            1276          deploy your python model as a restful api        5\n",
       "...           ...                                                ...      ...\n",
       "45988        1324                 ibm watson facebook posts for 2015     5146\n",
       "45989         142  neural networks for beginners: popular types a...     5146\n",
       "45990         233     bayesian nonparametric models – stats and bots     5147\n",
       "45991        1160       analyze accident reports on amazon emr spark     5148\n",
       "45992          16  higher-order logistic regression for large dat...     5149\n",
       "\n",
       "[45993 rows x 3 columns]"
      ]
     },
     "execution_count": 19,
     "metadata": {},
     "output_type": "execute_result"
    }
   ],
   "source": [
    "df"
   ]
  },
  {
   "cell_type": "markdown",
   "metadata": {},
   "source": [
    "#### User-article matrix with 1's and 0's"
   ]
  },
  {
   "cell_type": "code",
   "execution_count": 20,
   "metadata": {},
   "outputs": [],
   "source": [
    "def create_user_item_matrix(df, fill_value=0):\n",
    "    \"\"\"\n",
    "    Creates a user-item interaction matrix.\n",
    "    \n",
    "    INPUT:\n",
    "    df - pandas dataframe with article_id, title, and user_id columns\n",
    "    \n",
    "    OUTPUT:\n",
    "    user_item - a matrix with users as rows and articles as columns, \n",
    "                with 1 indicating interaction and 0 otherwise\n",
    "    \"\"\"\n",
    "    \n",
    "    # Create a user-item matrix with interactions\n",
    "    user_item = pd.crosstab(df['user_id'], df['article_id'])\n",
    "    \n",
    "    # Convert interaction values to binary (1 if interacted, else 0)\n",
    "    user_item = user_item.map(lambda x: 1 if x > 0 else 0)\n",
    "    \n",
    "    return user_item\n",
    "\n",
    "user_item = create_user_item_matrix(df)\n"
   ]
  },
  {
   "cell_type": "code",
   "execution_count": 21,
   "metadata": {},
   "outputs": [
    {
     "name": "stdout",
     "output_type": "stream",
     "text": [
      "You have passed our quick tests!  Please proceed!\n"
     ]
    }
   ],
   "source": [
    "assert user_item.shape[0] == 5149, \"Oops!  The number of users in the user-article matrix doesn't look right.\"\n",
    "assert user_item.shape[1] == 714, \"Oops!  The number of articles in the user-article matrix doesn't look right.\"\n",
    "assert user_item.sum(axis=1)[1] == 36, \"Oops!  The number of articles seen by user 1 doesn't look right.\"\n",
    "print(\"You have passed our quick tests!  Please proceed!\")"
   ]
  },
  {
   "cell_type": "markdown",
   "metadata": {},
   "source": [
    "#### Finding Similar Users Using Cosine Similarity"
   ]
  },
  {
   "cell_type": "code",
   "execution_count": 22,
   "metadata": {},
   "outputs": [],
   "source": [
    "from sklearn.metrics.pairwise import cosine_similarity"
   ]
  },
  {
   "cell_type": "code",
   "execution_count": 23,
   "metadata": {},
   "outputs": [],
   "source": [
    "def find_similar_users(user_id, user_item=user_item, include_similarity=False):\n",
    "    \"\"\"\n",
    "    Finds similar users based on cosine similarity.\n",
    "    \n",
    "    INPUT:\n",
    "    user_id - (int) target user ID\n",
    "    user_item - (pandas DataFrame) user-article interaction matrix\n",
    "    include_similarity - (bool) whether to return similarity scores\n",
    "    \n",
    "    OUTPUT:\n",
    "    similar_users - (list) ordered list of similar users \n",
    "                    (with similarity scores if include_similarity is True)\n",
    "    \"\"\"\n",
    "    \n",
    "    # Get the target user's interaction vector\n",
    "    target_vector = user_item.loc[user_id].values.reshape(1, -1)\n",
    "    \n",
    "    # Compute cosine similarity between all users and the target user\n",
    "    cos_sim = cosine_similarity(user_item, target_vector).flatten()\n",
    "    \n",
    "    # Create a series of similarity scores indexed by user ID\n",
    "    sim_series = pd.Series(cos_sim, index=user_item.index)\n",
    "    \n",
    "    # Remove the target user from the list and sort users by similarity\n",
    "    sim_series = sim_series.drop(user_id)\n",
    "    sim_series = sim_series.sort_values(ascending=False)\n",
    "    \n",
    "    similar_users = [[uid, sim] for uid, sim in sim_series.items()] if include_similarity else sim_series.index.tolist()\n",
    "    \n",
    "    return similar_users\n"
   ]
  },
  {
   "cell_type": "code",
   "execution_count": 24,
   "metadata": {},
   "outputs": [
    {
     "name": "stdout",
     "output_type": "stream",
     "text": [
      "The 10 most similar users to user 1 are: [3933, 4201, 46, 824, 5034, 253, 5041, 136, 2305, 395]\n",
      "The 5 most similar users to user 3933 are: [1, 46, 4201, 824, 5034]\n",
      "The 3 most similar users to user 46 are: [4201, 790, 5077]\n"
     ]
    }
   ],
   "source": [
    "# Do a spot check of your function\n",
    "print(\"The 10 most similar users to user 1 are: {}\".format(find_similar_users(1)[:10]))\n",
    "print(\"The 5 most similar users to user 3933 are: {}\".format(find_similar_users(3933)[:5]))\n",
    "print(\"The 3 most similar users to user 46 are: {}\".format(find_similar_users(46)[:3]))"
   ]
  },
  {
   "cell_type": "markdown",
   "metadata": {},
   "source": [
    "#### Functions for Retrieving and Recommending Articles to Users"
   ]
  },
  {
   "cell_type": "code",
   "execution_count": 25,
   "metadata": {},
   "outputs": [],
   "source": [
    "def get_article_names(article_ids, df=df):\n",
    "    \"\"\"\n",
    "    Retrieves article names corresponding to given article IDs.\n",
    "    \"\"\"\n",
    "    # Filter the dataset for the given article IDs and extract titles\n",
    "    article_names = df[df['article_id'].isin(article_ids)].groupby('article_id').first()['title'].values.tolist()\n",
    "    \n",
    "    return article_names\n",
    "\n",
    "\n",
    "def get_ranked_article_unique_counts(article_ids, user_item=user_item):\n",
    "    \"\"\"\n",
    "    Returns a sorted list of article IDs and their unique user interaction counts.\n",
    "    \"\"\"\n",
    "    counts = {}\n",
    "\n",
    "    # Count the number of unique users who have interacted with each article\n",
    "    for article in article_ids:\n",
    "        if article in user_item.columns:\n",
    "            counts[article] = user_item[article].sum()\n",
    "        else:\n",
    "            counts[article] = 0\n",
    "\n",
    "    # Sort articles by interaction count in descending order\n",
    "    ranked = sorted(counts.items(), key=lambda x: x[1], reverse=True)\n",
    "    ranked_article_counts = [list(item) for item in ranked]\n",
    "\n",
    "    return ranked_article_counts\n",
    "\n",
    "\n",
    "def get_user_articles(user_id, user_item=user_item):\n",
    "    \"\"\"\n",
    "    Retrieves the list of article IDs and corresponding article names that a user has interacted with.\n",
    "    \"\"\"\n",
    "    # Get the list of articles the user has interacted with\n",
    "    article_ids = user_item.columns[user_item.loc[user_id] == 1].tolist()\n",
    "    article_names = get_article_names(article_ids, df=df)\n",
    "    \n",
    "    return article_ids, article_names\n",
    "\n",
    "\n",
    "def user_user_recs(user_id, m=10):\n",
    "    \"\"\"\n",
    "    Generates article recommendations for a user based on similar users.\n",
    "    \"\"\"\n",
    "    user_seen = set(user_item.columns[user_item.loc[user_id] == 1])\n",
    "    similar_users = find_similar_users(user_id)  # Get users most similar to the input user\n",
    "    \n",
    "    recs = []\n",
    "\n",
    "    # Iterate over similar users to find articles they have read but the input user hasn't\n",
    "    for other_user in similar_users:\n",
    "        other_seen = set(user_item.columns[user_item.loc[other_user] == 1])\n",
    "        new_articles = list(other_seen - user_seen)  # Get articles not seen by the input user\n",
    "\n",
    "        for article in new_articles:\n",
    "            if article not in recs:\n",
    "                recs.append(article)\n",
    "\n",
    "            if len(recs) >= m:  # Stop once we have enough recommendations\n",
    "                break\n",
    "\n",
    "        if len(recs) >= m:\n",
    "            break\n",
    "\n",
    "    return recs\n"
   ]
  },
  {
   "cell_type": "code",
   "execution_count": 26,
   "metadata": {},
   "outputs": [
    {
     "data": {
      "text/plain": [
       "['this week in data science (april 18, 2017)',\n",
       " 'improving the roi of big data and analytics through leveraging new sources of data',\n",
       " 'awesome deep learning papers',\n",
       " '15 page tutorial for r',\n",
       " 'workflow in r',\n",
       " 'access mysql with r',\n",
       " 'analyze energy consumption in buildings',\n",
       " 'analyze open data sets with pandas dataframes',\n",
       " 'country statistics: airports',\n",
       " 'use sql with data in hadoop python']"
      ]
     },
     "execution_count": 26,
     "metadata": {},
     "output_type": "execute_result"
    }
   ],
   "source": [
    "get_article_names(user_user_recs(1, 10))"
   ]
  },
  {
   "cell_type": "code",
   "execution_count": 27,
   "metadata": {},
   "outputs": [
    {
     "data": {
      "text/plain": [
       "[1320, np.int64(123)]"
      ]
     },
     "execution_count": 27,
     "metadata": {},
     "output_type": "execute_result"
    }
   ],
   "source": [
    "get_ranked_article_unique_counts([1320, 232, 844])[0]"
   ]
  },
  {
   "cell_type": "code",
   "execution_count": 28,
   "metadata": {},
   "outputs": [
    {
     "name": "stdout",
     "output_type": "stream",
     "text": [
      "If this is all you see, you passed all of our tests!  Nice job!\n"
     ]
    }
   ],
   "source": [
    "assert set(get_article_names([1024, 1176, 1305, 1314, 1422, 1427])) == set(['using deep learning to reconstruct high-resolution audio', 'build a python app on the streaming analytics service', 'gosales transactions for naive bayes model', 'healthcare python streaming application demo', 'use r dataframes & ibm watson natural language understanding', 'use xgboost, scikit-learn & ibm watson machine learning apis']), \"Oops! Your the get_article_names function doesn't work quite how we expect.\"\n",
    "assert set(get_article_names([1320, 232, 844])) == set(['housing (2015): united states demographic measures','self-service data preparation with ibm data refinery','use the cloudant-spark connector in python notebook']), \"Oops! Your the get_article_names function doesn't work quite how we expect.\"\n",
    "assert set(get_user_articles(20)[0]) == set([1320, 232, 844])\n",
    "assert set(get_user_articles(20)[1]) == set(['housing (2015): united states demographic measures', 'self-service data preparation with ibm data refinery','use the cloudant-spark connector in python notebook'])\n",
    "assert set(get_user_articles(2)[0]) == set([1024, 1176, 1305, 1314, 1422, 1427])\n",
    "assert set(get_user_articles(2)[1]) == set(['using deep learning to reconstruct high-resolution audio', 'build a python app on the streaming analytics service', 'gosales transactions for naive bayes model', 'healthcare python streaming application demo', 'use r dataframes & ibm watson natural language understanding', 'use xgboost, scikit-learn & ibm watson machine learning apis'])\n",
    "assert get_ranked_article_unique_counts([1320, 232, 844])[0] == [1320, 123], \"Oops! Your the get_ranked_article_unique_counts function doesn't work quite how we expect.\\nMake sure you are using the user_item matrix to create the article counts.\"\n",
    "print(\"If this is all you see, you passed all of our tests!  Nice job!\")"
   ]
  },
  {
   "cell_type": "markdown",
   "metadata": {},
   "source": [
    "#### Prioritizing Similar Users and High-Interaction Articles for Better Recommendations"
   ]
  },
  {
   "cell_type": "code",
   "execution_count": 29,
   "metadata": {},
   "outputs": [],
   "source": [
    "def get_top_sorted_users(user_id, user_item=user_item):\n",
    "    \"\"\"\n",
    "    Finds similar users based on interaction patterns, ranks them by similarity,\n",
    "    and sorts by interaction count in descending order.\n",
    "    \n",
    "    INPUT:\n",
    "    user_id - (int) a user ID\n",
    "    user_item - (pandas dataframe) user-article interaction matrix (1 if interacted, 0 otherwise)\n",
    "    \n",
    "    OUTPUT:\n",
    "    neighbors_df - (pandas dataframe) containing:\n",
    "                    neighbor_id - ID of the neighboring user\n",
    "                    similarity - similarity score with the input user\n",
    "                    num_interactions - total articles viewed by the user\n",
    "    \"\"\"\n",
    "    # Compute cosine similarity between the target user and all users\n",
    "    target_vector = user_item.loc[user_id].values.reshape(1, -1)\n",
    "    all_vectors = user_item.values\n",
    "    similarity_scores = cosine_similarity(all_vectors, target_vector).flatten()\n",
    "\n",
    "    # Convert similarity scores into a Series and remove the input user\n",
    "    sim_series = pd.Series(similarity_scores, index=user_item.index)\n",
    "    sim_series.drop(user_id, inplace=True)\n",
    "\n",
    "    # Get total interactions for each user\n",
    "    interaction_counts = user_item.sum(axis=1)\n",
    "\n",
    "    # Create a dataframe of neighboring users sorted by similarity and interactions\n",
    "    neighbors_df = pd.DataFrame({\n",
    "        'neighbor_id': sim_series.index,\n",
    "        'similarity': sim_series.values,\n",
    "        'num_interactions': interaction_counts.loc[sim_series.index].values\n",
    "    })\n",
    "\n",
    "    neighbors_df.sort_values(by=['similarity', 'num_interactions'], \n",
    "                             ascending=False, inplace=True)\n",
    "    \n",
    "    neighbors_df.reset_index(drop=True, inplace=True)\n",
    "    \n",
    "    return neighbors_df\n",
    "\n",
    "\n",
    "def user_user_recs_part2(user_id, m=10, user_item=user_item, df=df):\n",
    "    \"\"\"\n",
    "    Recommends articles to a user by finding similar users, prioritizing users with the highest\n",
    "    similarity and interaction count. The function selects unseen articles from these users\n",
    "    while prioritizing popular articles.\n",
    "\n",
    "    INPUT:\n",
    "    user_id - (int) a user ID\n",
    "    m - (int) number of recommendations to return\n",
    "    user_item - (pandas dataframe) user-article interaction matrix\n",
    "    df - (pandas dataframe) dataset containing article details\n",
    "    \n",
    "    OUTPUT:\n",
    "    recs - (list) recommended article IDs\n",
    "    rec_names - (list) recommended article titles\n",
    "    \"\"\"\n",
    "    neighbors_df = get_top_sorted_users(user_id, user_item)  # Get sorted list of similar users\n",
    "    user_seen = set(user_item.columns[user_item.loc[user_id] == 1])  # Articles already seen by the user\n",
    "    \n",
    "    recs = []\n",
    "    \n",
    "    # Get the interaction count for each article to prioritize popular ones\n",
    "    article_interactions = user_item.sum(axis=0)\n",
    "\n",
    "    # Iterate through similar users and get new article recommendations\n",
    "    for _, row in neighbors_df.iterrows():\n",
    "        neighbor_id = row['neighbor_id']\n",
    "        neighbor_seen = set(user_item.columns[user_item.loc[neighbor_id] == 1])\n",
    "\n",
    "        # Sort neighbor's articles by popularity\n",
    "        sorted_articles = sorted(neighbor_seen, \n",
    "                                 key=lambda x: article_interactions[x], \n",
    "                                 reverse=True)\n",
    "\n",
    "        # Add unseen articles to recommendations\n",
    "        for article_id in sorted_articles:\n",
    "            if article_id not in user_seen and article_id not in recs:\n",
    "                recs.append(article_id)\n",
    "                if len(recs) >= m:\n",
    "                    break\n",
    "        \n",
    "        if len(recs) >= m:\n",
    "            break\n",
    "\n",
    "    rec_names = get_article_names(recs, df=df)  # Retrieve article titles\n",
    "    \n",
    "    return recs, rec_names\n"
   ]
  },
  {
   "cell_type": "code",
   "execution_count": 30,
   "metadata": {},
   "outputs": [
    {
     "name": "stdout",
     "output_type": "stream",
     "text": [
      "The top 10 recommendations for user 20 are the following article ids:\n",
      "[1185, 1162, 1165, 1293, 254, 1271, 1328, 1410, 40, 1402]\n",
      "\n",
      "The top 10 recommendations for user 20 are the following article names:\n",
      "['ensemble learning to improve machine learning results', 'apple, ibm add machine learning to partnership with watson-core ml coupling', 'analyze energy consumption in buildings', 'analyze precipitation data', 'classify tumors with machine learning', 'customer demographics and sales', 'finding optimal locations of new store using decision optimization', 'income (2015): united states demographic measures', 'uci: adult - predict income', 'uci: sms spam collection']\n"
     ]
    }
   ],
   "source": [
    "rec_ids, rec_names = user_user_recs_part2(20, 10)\n",
    "print(\"The top 10 recommendations for user 20 are the following article ids:\")\n",
    "print(rec_ids)\n",
    "print()\n",
    "print(\"The top 10 recommendations for user 20 are the following article names:\")\n",
    "print(rec_names)"
   ]
  },
  {
   "cell_type": "code",
   "execution_count": 31,
   "metadata": {},
   "outputs": [
    {
     "name": "stdout",
     "output_type": "stream",
     "text": [
      "   neighbor_id  similarity  num_interactions\n",
      "0         3933    0.986013                35\n",
      "   neighbor_id  similarity  num_interactions\n",
      "0         5083    0.730297                 5\n",
      "1         1552    0.577350                 2\n",
      "2         1890    0.577350                 2\n",
      "3         1372    0.471405                 3\n",
      "4         2941    0.433013                 8\n",
      "5         3586    0.408248                 4\n",
      "6          331    0.408248                 1\n",
      "7          348    0.408248                 1\n",
      "8          378    0.408248                 1\n",
      "9          496    0.408248                 1\n",
      "   neighbor_id  similarity  num_interactions\n",
      "0         3870    0.986667                75\n",
      "1          203    0.388909                96\n",
      "2         4459    0.388909                96\n",
      "3         3782    0.387585               135\n",
      "4           40    0.384308                52\n",
      "5         4932    0.384308                52\n",
      "6           23    0.377647               135\n",
      "7          242    0.375823                59\n",
      "8         3910    0.372678                60\n",
      "9          383    0.367423                32\n"
     ]
    }
   ],
   "source": [
    "print(get_top_sorted_users(1, user_item=user_item).head(n=1))\n",
    "print(get_top_sorted_users(2, user_item=user_item).head(n=10))\n",
    "print(get_top_sorted_users(131, user_item=user_item).head(n=10))"
   ]
  },
  {
   "cell_type": "markdown",
   "metadata": {},
   "source": [
    "### Test 5"
   ]
  },
  {
   "cell_type": "code",
   "execution_count": 32,
   "metadata": {},
   "outputs": [],
   "source": [
    "user1_most_sim =  get_top_sorted_users(1, user_item).iloc[0]['neighbor_id']      # Find the user that is most similar to user 1 \n",
    "user2_6th_sim =  get_top_sorted_users(2, user_item).iloc[5]['neighbor_id']       # Find the 6th most similar user to user 2\n",
    "user131_10th_sim =  get_top_sorted_users(131, user_item).iloc[9]['neighbor_id']  # Find the 10th most similar user to user 131"
   ]
  },
  {
   "cell_type": "code",
   "execution_count": 33,
   "metadata": {},
   "outputs": [
    {
     "name": "stdout",
     "output_type": "stream",
     "text": [
      "This all looks good!  Nice job!\n"
     ]
    }
   ],
   "source": [
    "sol_5_dict = {\n",
    "    'The user that is most similar to user 1.': user1_most_sim,\n",
    "    'The user that is the 6th most similar to user 2.': user2_6th_sim,\n",
    "    'The user that is the 10th most similar to user 131.': user131_10th_sim,\n",
    "}\n",
    "\n",
    "t.sol_5_test(sol_5_dict)"
   ]
  },
  {
   "cell_type": "markdown",
   "metadata": {},
   "source": [
    "Since the user is new, we cannot use collaborative or content-based filtering due to a lack of interaction data. Instead, we will use a popularity-based recommendation system.\n",
    "\n",
    "Another way we could recommend articles is by allowing new users to select topics they're interested in while signing up and then using a knowledge-based recommendation system."
   ]
  },
  {
   "cell_type": "code",
   "execution_count": 34,
   "metadata": {},
   "outputs": [
    {
     "data": {
      "text/plain": [
       "[1429, 1330, 1431, 1427, 1364, 1314, 1293, 1170, 1162, 1304]"
      ]
     },
     "execution_count": 34,
     "metadata": {},
     "output_type": "execute_result"
    }
   ],
   "source": [
    "new_user_recs = get_top_article_ids(10)\n",
    "new_user_recs"
   ]
  },
  {
   "cell_type": "code",
   "execution_count": 35,
   "metadata": {},
   "outputs": [
    {
     "name": "stdout",
     "output_type": "stream",
     "text": [
      "That's right!  Nice job!\n"
     ]
    }
   ],
   "source": [
    "assert set(new_user_recs) == {1314, 1429, 1293, 1427, 1162, 1364, 1304, 1170, 1431, 1330}, \"Oops!  It makes sense that in this case we would want to recommend the most popular articles, because we don't know anything about these users.\"\n",
    "\n",
    "print(\"That's right!  Nice job!\")"
   ]
  },
  {
   "cell_type": "markdown",
   "metadata": {},
   "source": [
    "### <a class=\"anchor\" id=\"Content-Recs\">Part IV: Content Based Recommendations</a>\n",
    "\n",
    "Another method we might use to make recommendations is to recommend similar articles that are possibly related. One way we can find article relationships is by clustering text about those articles.  Let's consider content to be the article **title**, as it is the only text we have available. One point to highlight, there isn't one way to create a content based recommendation, especially considering that text information can be processed in many ways."
   ]
  },
  {
   "cell_type": "code",
   "execution_count": 36,
   "metadata": {},
   "outputs": [
    {
     "data": {
      "text/html": [
       "<div>\n",
       "<style scoped>\n",
       "    .dataframe tbody tr th:only-of-type {\n",
       "        vertical-align: middle;\n",
       "    }\n",
       "\n",
       "    .dataframe tbody tr th {\n",
       "        vertical-align: top;\n",
       "    }\n",
       "\n",
       "    .dataframe thead th {\n",
       "        text-align: right;\n",
       "    }\n",
       "</style>\n",
       "<table border=\"1\" class=\"dataframe\">\n",
       "  <thead>\n",
       "    <tr style=\"text-align: right;\">\n",
       "      <th></th>\n",
       "      <th>article_id</th>\n",
       "      <th>title</th>\n",
       "      <th>user_id</th>\n",
       "    </tr>\n",
       "  </thead>\n",
       "  <tbody>\n",
       "    <tr>\n",
       "      <th>0</th>\n",
       "      <td>1430</td>\n",
       "      <td>using pixiedust for fast, flexible, and easier...</td>\n",
       "      <td>1</td>\n",
       "    </tr>\n",
       "    <tr>\n",
       "      <th>1</th>\n",
       "      <td>1314</td>\n",
       "      <td>healthcare python streaming application demo</td>\n",
       "      <td>2</td>\n",
       "    </tr>\n",
       "    <tr>\n",
       "      <th>2</th>\n",
       "      <td>1429</td>\n",
       "      <td>use deep learning for image classification</td>\n",
       "      <td>3</td>\n",
       "    </tr>\n",
       "    <tr>\n",
       "      <th>3</th>\n",
       "      <td>1338</td>\n",
       "      <td>ml optimization using cognitive assistant</td>\n",
       "      <td>4</td>\n",
       "    </tr>\n",
       "    <tr>\n",
       "      <th>4</th>\n",
       "      <td>1276</td>\n",
       "      <td>deploy your python model as a restful api</td>\n",
       "      <td>5</td>\n",
       "    </tr>\n",
       "  </tbody>\n",
       "</table>\n",
       "</div>"
      ],
      "text/plain": [
       "   article_id                                              title  user_id\n",
       "0        1430  using pixiedust for fast, flexible, and easier...        1\n",
       "1        1314       healthcare python streaming application demo        2\n",
       "2        1429         use deep learning for image classification        3\n",
       "3        1338          ml optimization using cognitive assistant        4\n",
       "4        1276          deploy your python model as a restful api        5"
      ]
     },
     "execution_count": 36,
     "metadata": {},
     "output_type": "execute_result"
    }
   ],
   "source": [
    "# Viewing Our Dataset\n",
    "df.head()"
   ]
  },
  {
   "cell_type": "code",
   "execution_count": 37,
   "metadata": {},
   "outputs": [],
   "source": [
    "# Importing Necessary Libraries\n",
    "\n",
    "from sklearn.cluster import KMeans\n",
    "from sklearn.feature_extraction.text import TfidfVectorizer\n",
    "from sklearn.pipeline import make_pipeline\n",
    "from sklearn.preprocessing import Normalizer\n",
    "from sklearn.decomposition import TruncatedSVD"
   ]
  },
  {
   "cell_type": "code",
   "execution_count": 38,
   "metadata": {},
   "outputs": [
    {
     "data": {
      "text/plain": [
       "article_id\n",
       "0       detect malfunctioning iot sensors with streami...\n",
       "2              this week in data science (april 18, 2017)\n",
       "4           analyze ny restaurant data using spark in dsx\n",
       "8                                  data science bowl 2017\n",
       "9       3992    using apache spark to predict attack v...\n",
       "                              ...                        \n",
       "1440                                  world marriage data\n",
       "1441    world tourism data by the world tourism organi...\n",
       "1442    worldwide county and region - national account...\n",
       "1443    worldwide electricity demand and production 19...\n",
       "1444    worldwide fuel oil consumption by household (i...\n",
       "Name: title, Length: 714, dtype: object"
      ]
     },
     "execution_count": 38,
     "metadata": {},
     "output_type": "execute_result"
    }
   ],
   "source": [
    "# Creating a Dataset With Unique Articles\n",
    "\n",
    "df_unique_articles = df.groupby('article_id')['title'].first()\n",
    "df_unique_articles"
   ]
  },
  {
   "cell_type": "markdown",
   "metadata": {},
   "source": [
    "**Applying TF-IDF and Latent Semantic Analysis (LSA) to Article Titles**"
   ]
  },
  {
   "cell_type": "code",
   "execution_count": 39,
   "metadata": {},
   "outputs": [
    {
     "name": "stdout",
     "output_type": "stream",
     "text": [
      "Running TF-IDF\n",
      "n_samples: 714, n_features: 125\n",
      "Explained variance of the SVD step: 76.0%\n"
     ]
    }
   ],
   "source": [
    "# Set parameters for TF-IDF vectorization\n",
    "max_features = 200\n",
    "max_df = 0.75\n",
    "min_df = 5\n",
    "\n",
    "# Initialize the TF-IDF vectorizer to transform article titles into numerical features\n",
    "vectorizer = TfidfVectorizer(\n",
    "    max_df=max_df,\n",
    "    min_df=min_df,\n",
    "    stop_words=\"english\",\n",
    "    max_features=max_features,\n",
    ")\n",
    "\n",
    "print(\"Running TF-IDF\")\n",
    "\n",
    "# Fit the vectorizer to the unique article titles and transform them into a TF-IDF matrix\n",
    "X_tfidf = vectorizer.fit_transform(df_unique_articles)\n",
    "\n",
    "print(f\"n_samples: {X_tfidf.shape[0]}, n_features: {X_tfidf.shape[1]}\")\n",
    "\n",
    "# Apply Latent Semantic Analysis (LSA) using Truncated SVD followed by normalization\n",
    "lsa = make_pipeline(TruncatedSVD(n_components=50), Normalizer(copy=False))\n",
    "X_lsa = lsa.fit_transform(X_tfidf)\n",
    "\n",
    "# Compute and display the explained variance\n",
    "explained_variance = lsa[0].explained_variance_ratio_.sum()\n",
    "print(f\"Explained variance of the SVD step: {explained_variance * 100:.1f}%\")\n"
   ]
  },
  {
   "cell_type": "markdown",
   "metadata": {},
   "source": [
    "#### Determining the Optimal Number of Clusters Using K-Means"
   ]
  },
  {
   "cell_type": "code",
   "execution_count": 40,
   "metadata": {},
   "outputs": [
    {
     "data": {
      "text/plain": [
       "Text(0.5, 0, 'Number of clusters')"
      ]
     },
     "execution_count": 40,
     "metadata": {},
     "output_type": "execute_result"
    },
    {
     "data": {
      "image/png": "[encoded data removed]",
      "text/plain": [
       "<Figure size 640x480 with 1 Axes>"
      ]
     },
     "metadata": {},
     "output_type": "display_data"
    }
   ],
   "source": [
    "# Initialize parameters for k-means clustering\n",
    "clusters = 300 \n",
    "step = 25 \n",
    "max_iter = 50 \n",
    "n_init = 5 \n",
    "random_state = 42 \n",
    "\n",
    "inertia = []\n",
    "\n",
    "# Compute inertia for different numbers of clusters\n",
    "for k in range(1, clusters, step):\n",
    "    kmeans = KMeans(\n",
    "        n_clusters=k,\n",
    "        max_iter=max_iter,\n",
    "        n_init=n_init,\n",
    "        random_state=random_state,\n",
    "    ).fit(X_lsa)\n",
    "    \n",
    "    inertia.append(kmeans.inertia_)  # Sum of squared distances to nearest cluster center\n",
    "\n",
    "# Plot the inertia values to determine the optimal number of clusters\n",
    "plt.plot(range(1, clusters, step), inertia)\n",
    "plt.xlabel('Number of clusters')\n"
   ]
  },
  {
   "cell_type": "markdown",
   "metadata": {},
   "source": [
    "There appears to be an elbow about 50, so we'll use 50 clusters."
   ]
  },
  {
   "cell_type": "code",
   "execution_count": 41,
   "metadata": {
    "scrolled": false
   },
   "outputs": [],
   "source": [
    "# Initilising and fitting k-means clustering\n",
    "\n",
    "n_clusters = 50\n",
    "\n",
    "kmeans = KMeans(n_clusters = n_clusters, random_state = 42)\n",
    "kmeans.fit(X_lsa)\n",
    "\n",
    "labels = kmeans.labels_"
   ]
  },
  {
   "cell_type": "code",
   "execution_count": 42,
   "metadata": {},
   "outputs": [],
   "source": [
    "# Assigning labels to clusters\n",
    "article_cluster_map = dict(zip(df_unique_articles.index,labels))\n",
    "df['title_cluster'] = df['article_id'].map(article_cluster_map)"
   ]
  },
  {
   "cell_type": "code",
   "execution_count": 43,
   "metadata": {
    "scrolled": true
   },
   "outputs": [
    {
     "data": {
      "text/plain": [
       "array([[ 0, 10],\n",
       "       [ 1,  9],\n",
       "       [ 2, 28],\n",
       "       [ 3, 30],\n",
       "       [ 4, 76],\n",
       "       [ 5, 37],\n",
       "       [ 6,  9],\n",
       "       [ 7, 13],\n",
       "       [ 8, 21],\n",
       "       [ 9, 15],\n",
       "       [10, 36],\n",
       "       [11, 12],\n",
       "       [12, 20],\n",
       "       [13, 23],\n",
       "       [14,  8],\n",
       "       [15, 23],\n",
       "       [16, 19],\n",
       "       [17, 19],\n",
       "       [18,  1],\n",
       "       [19, 11],\n",
       "       [20,  4],\n",
       "       [21, 21],\n",
       "       [22, 18],\n",
       "       [23,  5],\n",
       "       [24, 10],\n",
       "       [25,  8],\n",
       "       [26, 17],\n",
       "       [27,  7],\n",
       "       [28, 20],\n",
       "       [29,  9],\n",
       "       [30,  7],\n",
       "       [31,  9],\n",
       "       [32, 11],\n",
       "       [33,  9],\n",
       "       [34,  8],\n",
       "       [35,  7],\n",
       "       [36,  5],\n",
       "       [37, 13],\n",
       "       [38,  6],\n",
       "       [39,  8],\n",
       "       [40,  7],\n",
       "       [41, 10],\n",
       "       [42,  9],\n",
       "       [43,  8],\n",
       "       [44, 16],\n",
       "       [45, 10],\n",
       "       [46,  5],\n",
       "       [47, 10],\n",
       "       [48, 10],\n",
       "       [49,  7]])"
      ]
     },
     "execution_count": 43,
     "metadata": {},
     "output_type": "execute_result"
    }
   ],
   "source": [
    "np.array(np.unique(kmeans.labels_, return_counts=True)).T"
   ]
  },
  {
   "cell_type": "markdown",
   "metadata": {},
   "source": [
    "#### Retrieving Similar Articles Based on Title Clusters"
   ]
  },
  {
   "cell_type": "code",
   "execution_count": 44,
   "metadata": {},
   "outputs": [],
   "source": [
    "def get_similar_articles(article_id, df=df):\n",
    "    \"\"\"\n",
    "    Finds articles that belong to the same title cluster as the given article.\n",
    "\n",
    "    INPUT:\n",
    "    article_id - (int) an article ID \n",
    "    df - (pandas dataframe) dataset containing article details and their title clusters\n",
    "    \n",
    "    OUTPUT:\n",
    "    article_ids - (list) a list of article IDs in the same title cluster\n",
    "    \n",
    "    DESCRIPTION:\n",
    "    Identifies and returns a list of article IDs that are grouped under the same title cluster,\n",
    "    excluding the input article itself.\n",
    "    \"\"\"\n",
    "    # Find the cluster label associated with the given article_id\n",
    "    title_cluster = df.loc[df['article_id'] == article_id, 'title_cluster'].values\n",
    "\n",
    "    if len(title_cluster) == 0:\n",
    "        return []  # Return an empty list if the article_id is not found\n",
    "\n",
    "    title_cluster = title_cluster[0]  # Extract the cluster label\n",
    "\n",
    "    # Get all articles within the same cluster\n",
    "    articles_in_cluster = df[df['title_cluster'] == title_cluster]['article_id'].tolist()\n",
    "\n",
    "    # Remove the input article_id from the list to avoid self-recommendation\n",
    "    articles_in_cluster = [art_id for art_id in articles_in_cluster if art_id != article_id]\n",
    "\n",
    "    return articles_in_cluster\n"
   ]
  },
  {
   "cell_type": "markdown",
   "metadata": {},
   "source": [
    "#### Content-Based Article Recommendations Using Title Clustering and Popularity Ranking"
   ]
  },
  {
   "cell_type": "code",
   "execution_count": 45,
   "metadata": {},
   "outputs": [],
   "source": [
    "def make_content_recs(article_id, n, df=df, user_item=user_item):\n",
    "    \"\"\"\n",
    "    Generates content-based article recommendations using title clustering and popularity ranking.\n",
    "\n",
    "    INPUT:\n",
    "    article_id - (int) an article ID\n",
    "    n - (int) number of recommendations desired\n",
    "    df - (pandas dataframe) dataset containing article details and title clusters\n",
    "    user_item - (pandas dataframe) matrix of users by articles (1 if interacted, 0 otherwise)\n",
    "    \n",
    "    OUTPUT:\n",
    "    n_ranked_similar_articles - (list) top N article IDs from the same title cluster, ranked by popularity\n",
    "    n_ranked_article_names - (list) corresponding article titles\n",
    "    \n",
    "    DESCRIPTION:\n",
    "    Finds articles in the same title cluster as the given article_id and ranks them by popularity \n",
    "    using the get_ranked_article_unique_counts function. Returns the top N recommended articles.\n",
    "    \"\"\"\n",
    "    # Get similar articles from the same title cluster\n",
    "    similar_articles = get_similar_articles(article_id, df)\n",
    "\n",
    "    # If no similar articles are found, return empty lists\n",
    "    if not similar_articles:\n",
    "        return [], []\n",
    "\n",
    "    # Rank similar articles by popularity (based on unique user interactions)\n",
    "    ranked_articles = get_ranked_article_unique_counts(similar_articles, user_item)\n",
    "\n",
    "    # Extract the top N ranked article IDs\n",
    "    ranked_article_ids = [article[0] for article in ranked_articles][:n]\n",
    "\n",
    "    # Retrieve article titles corresponding to the recommended article IDs\n",
    "    n_ranked_article_names = df[df['article_id'].isin(ranked_article_ids)]['title'].tolist()[:n]\n",
    "\n",
    "    return ranked_article_ids, n_ranked_article_names\n"
   ]
  },
  {
   "cell_type": "code",
   "execution_count": 46,
   "metadata": {},
   "outputs": [
    {
     "name": "stdout",
     "output_type": "stream",
     "text": [
      "[1025, 101, 975, 766, 508, 547, 132, 878, 92, 693]\n",
      "['better together: spss and data science experience', 'data science in the cloud', 'collecting data science cheat sheets', 'making data science a team sport', 'data science in the cloud', 'better together: spss and data science experience', 'better together: spss and data science experience', 'better together: spss and data science experience', 'how to choose a project to practice data science', 'data tidying in data science experience']\n"
     ]
    }
   ],
   "source": [
    "rec_article_ids, rec_article_titles = make_content_recs(25, 10)\n",
    "print(rec_article_ids)\n",
    "print(rec_article_titles)"
   ]
  },
  {
   "cell_type": "code",
   "execution_count": 47,
   "metadata": {},
   "outputs": [
    {
     "data": {
      "text/plain": [
       "10"
      ]
     },
     "execution_count": 47,
     "metadata": {},
     "output_type": "execute_result"
    }
   ],
   "source": [
    "len(rec_article_titles)"
   ]
  },
  {
   "cell_type": "code",
   "execution_count": 48,
   "metadata": {},
   "outputs": [],
   "source": [
    "assert len({1025, 593, 349, 821, 464, 29, 1042, 693, 524, 352}.intersection(set(rec_article_ids))) > 0, \"Oops! Your the make_content_recs function doesn't work quite how we expect.\""
   ]
  },
  {
   "cell_type": "markdown",
   "metadata": {},
   "source": [
    "**1. Text Processing:**\n",
    "\n",
    "    - We convert article titles into numerical features using TF-IDF vectorization and apply Latent Semantic Analysis (LSA) for dimensionality reduction.\n",
    "\n",
    "**2. Clustering with K-Means:**\n",
    "\n",
    "    - Articles are grouped into 50 clusters based on content similarity.\n",
    "\n",
    "**3. Generating Recommendations:**\n",
    "\n",
    "    - Given an article, we find other articles in the same cluster.\n",
    "    - These articles are ranked by popularity (unique user interactions).\n",
    "    - The top N articles are returned as recommendations."
   ]
  },
  {
   "cell_type": "markdown",
   "metadata": {},
   "source": [
    "### <a class=\"anchor\" id=\"Matrix-Fact\">Part V: Matrix Factorization</a>"
   ]
  },
  {
   "cell_type": "code",
   "execution_count": 49,
   "metadata": {},
   "outputs": [
    {
     "data": {
      "text/html": [
       "<div>\n",
       "<style scoped>\n",
       "    .dataframe tbody tr th:only-of-type {\n",
       "        vertical-align: middle;\n",
       "    }\n",
       "\n",
       "    .dataframe tbody tr th {\n",
       "        vertical-align: top;\n",
       "    }\n",
       "\n",
       "    .dataframe thead th {\n",
       "        text-align: right;\n",
       "    }\n",
       "</style>\n",
       "<table border=\"1\" class=\"dataframe\">\n",
       "  <thead>\n",
       "    <tr style=\"text-align: right;\">\n",
       "      <th>article_id</th>\n",
       "      <th>0</th>\n",
       "      <th>2</th>\n",
       "      <th>4</th>\n",
       "      <th>8</th>\n",
       "      <th>9</th>\n",
       "      <th>12</th>\n",
       "      <th>14</th>\n",
       "      <th>15</th>\n",
       "      <th>16</th>\n",
       "      <th>18</th>\n",
       "      <th>...</th>\n",
       "      <th>1434</th>\n",
       "      <th>1435</th>\n",
       "      <th>1436</th>\n",
       "      <th>1437</th>\n",
       "      <th>1439</th>\n",
       "      <th>1440</th>\n",
       "      <th>1441</th>\n",
       "      <th>1442</th>\n",
       "      <th>1443</th>\n",
       "      <th>1444</th>\n",
       "    </tr>\n",
       "    <tr>\n",
       "      <th>user_id</th>\n",
       "      <th></th>\n",
       "      <th></th>\n",
       "      <th></th>\n",
       "      <th></th>\n",
       "      <th></th>\n",
       "      <th></th>\n",
       "      <th></th>\n",
       "      <th></th>\n",
       "      <th></th>\n",
       "      <th></th>\n",
       "      <th></th>\n",
       "      <th></th>\n",
       "      <th></th>\n",
       "      <th></th>\n",
       "      <th></th>\n",
       "      <th></th>\n",
       "      <th></th>\n",
       "      <th></th>\n",
       "      <th></th>\n",
       "      <th></th>\n",
       "      <th></th>\n",
       "    </tr>\n",
       "  </thead>\n",
       "  <tbody>\n",
       "    <tr>\n",
       "      <th>1</th>\n",
       "      <td>0</td>\n",
       "      <td>0</td>\n",
       "      <td>0</td>\n",
       "      <td>0</td>\n",
       "      <td>0</td>\n",
       "      <td>0</td>\n",
       "      <td>0</td>\n",
       "      <td>0</td>\n",
       "      <td>0</td>\n",
       "      <td>0</td>\n",
       "      <td>...</td>\n",
       "      <td>0</td>\n",
       "      <td>0</td>\n",
       "      <td>1</td>\n",
       "      <td>0</td>\n",
       "      <td>1</td>\n",
       "      <td>0</td>\n",
       "      <td>0</td>\n",
       "      <td>0</td>\n",
       "      <td>0</td>\n",
       "      <td>0</td>\n",
       "    </tr>\n",
       "    <tr>\n",
       "      <th>2</th>\n",
       "      <td>0</td>\n",
       "      <td>0</td>\n",
       "      <td>0</td>\n",
       "      <td>0</td>\n",
       "      <td>0</td>\n",
       "      <td>0</td>\n",
       "      <td>0</td>\n",
       "      <td>0</td>\n",
       "      <td>0</td>\n",
       "      <td>0</td>\n",
       "      <td>...</td>\n",
       "      <td>0</td>\n",
       "      <td>0</td>\n",
       "      <td>0</td>\n",
       "      <td>0</td>\n",
       "      <td>0</td>\n",
       "      <td>0</td>\n",
       "      <td>0</td>\n",
       "      <td>0</td>\n",
       "      <td>0</td>\n",
       "      <td>0</td>\n",
       "    </tr>\n",
       "    <tr>\n",
       "      <th>3</th>\n",
       "      <td>0</td>\n",
       "      <td>0</td>\n",
       "      <td>0</td>\n",
       "      <td>0</td>\n",
       "      <td>0</td>\n",
       "      <td>1</td>\n",
       "      <td>0</td>\n",
       "      <td>0</td>\n",
       "      <td>0</td>\n",
       "      <td>0</td>\n",
       "      <td>...</td>\n",
       "      <td>0</td>\n",
       "      <td>0</td>\n",
       "      <td>1</td>\n",
       "      <td>0</td>\n",
       "      <td>0</td>\n",
       "      <td>0</td>\n",
       "      <td>0</td>\n",
       "      <td>0</td>\n",
       "      <td>0</td>\n",
       "      <td>0</td>\n",
       "    </tr>\n",
       "    <tr>\n",
       "      <th>4</th>\n",
       "      <td>0</td>\n",
       "      <td>0</td>\n",
       "      <td>0</td>\n",
       "      <td>0</td>\n",
       "      <td>0</td>\n",
       "      <td>0</td>\n",
       "      <td>0</td>\n",
       "      <td>0</td>\n",
       "      <td>0</td>\n",
       "      <td>0</td>\n",
       "      <td>...</td>\n",
       "      <td>0</td>\n",
       "      <td>0</td>\n",
       "      <td>0</td>\n",
       "      <td>0</td>\n",
       "      <td>0</td>\n",
       "      <td>0</td>\n",
       "      <td>0</td>\n",
       "      <td>0</td>\n",
       "      <td>0</td>\n",
       "      <td>0</td>\n",
       "    </tr>\n",
       "    <tr>\n",
       "      <th>5</th>\n",
       "      <td>0</td>\n",
       "      <td>0</td>\n",
       "      <td>0</td>\n",
       "      <td>0</td>\n",
       "      <td>0</td>\n",
       "      <td>0</td>\n",
       "      <td>0</td>\n",
       "      <td>0</td>\n",
       "      <td>0</td>\n",
       "      <td>0</td>\n",
       "      <td>...</td>\n",
       "      <td>0</td>\n",
       "      <td>0</td>\n",
       "      <td>0</td>\n",
       "      <td>0</td>\n",
       "      <td>0</td>\n",
       "      <td>0</td>\n",
       "      <td>0</td>\n",
       "      <td>0</td>\n",
       "      <td>0</td>\n",
       "      <td>0</td>\n",
       "    </tr>\n",
       "  </tbody>\n",
       "</table>\n",
       "<p>5 rows × 714 columns</p>\n",
       "</div>"
      ],
      "text/plain": [
       "article_id  0     2     4     8     9     12    14    15    16    18    ...  \\\n",
       "user_id                                                                 ...   \n",
       "1              0     0     0     0     0     0     0     0     0     0  ...   \n",
       "2              0     0     0     0     0     0     0     0     0     0  ...   \n",
       "3              0     0     0     0     0     1     0     0     0     0  ...   \n",
       "4              0     0     0     0     0     0     0     0     0     0  ...   \n",
       "5              0     0     0     0     0     0     0     0     0     0  ...   \n",
       "\n",
       "article_id  1434  1435  1436  1437  1439  1440  1441  1442  1443  1444  \n",
       "user_id                                                                 \n",
       "1              0     0     1     0     1     0     0     0     0     0  \n",
       "2              0     0     0     0     0     0     0     0     0     0  \n",
       "3              0     0     1     0     0     0     0     0     0     0  \n",
       "4              0     0     0     0     0     0     0     0     0     0  \n",
       "5              0     0     0     0     0     0     0     0     0     0  \n",
       "\n",
       "[5 rows x 714 columns]"
      ]
     },
     "execution_count": 49,
     "metadata": {},
     "output_type": "execute_result"
    }
   ],
   "source": [
    "# quick look at the matrix\n",
    "user_item.head()"
   ]
  },
  {
   "cell_type": "markdown",
   "metadata": {},
   "source": [
    "#### Extracting Latent Features Using Truncated SVD"
   ]
  },
  {
   "cell_type": "code",
   "execution_count": 50,
   "metadata": {},
   "outputs": [
    {
     "name": "stdout",
     "output_type": "stream",
     "text": [
      "u (5149, 714)\n",
      "s (714,)\n",
      "vt (714, 714)\n"
     ]
    }
   ],
   "source": [
    "from sklearn.decomposition import TruncatedSVD\n",
    "from sklearn.metrics import precision_score, recall_score, accuracy_score\n",
    "\n",
    "# Conducting SVD using the full number of components which equals the number of columns\n",
    "svd = TruncatedSVD(n_components=len(user_item.columns), n_iter=5, random_state=42)\n",
    "\n",
    "u = svd.fit_transform(user_item)\n",
    "v = svd.components_\n",
    "s = svd.singular_values_ \n",
    "\n",
    "print('u', u.shape)\n",
    "print('s', s.shape)\n",
    "print('vt', v.shape)"
   ]
  },
  {
   "cell_type": "markdown",
   "metadata": {},
   "source": [
    "#### Determining the Optimal Number of Latent Features"
   ]
  },
  {
   "cell_type": "code",
   "execution_count": 51,
   "metadata": {},
   "outputs": [
    {
     "data": {
      "text/plain": [
       "Text(0.5, 1.0, 'Metrics vs. Number of Latent Features')"
      ]
     },
     "execution_count": 51,
     "metadata": {},
     "output_type": "execute_result"
    },
    {
     "data": {
      "image/png": "[encoded data removed]",
      "text/plain": [
       "<Figure size 640x480 with 1 Axes>"
      ]
     },
     "metadata": {},
     "output_type": "display_data"
    }
   ],
   "source": [
    "num_latent_feats = np.arange(10, 700+10, 20)\n",
    "metric_scores = []\n",
    "\n",
    "for k in num_latent_feats:\n",
    "    # restructure with k latent features\n",
    "    u_new, vt_new = u[:, :k], v[:k, :]\n",
    "    \n",
    "    # take dot product\n",
    "    user_item_est = abs(np.around(np.dot(u_new, vt_new))).astype(int)\n",
    "    # make sure the values are between 0 and 1\n",
    "    user_item_est = np.clip(user_item_est, 0, 1)\n",
    "    \n",
    "    # total errors and keep track of them\n",
    "    acc = accuracy_score(user_item.values.flatten(), user_item_est.flatten())\n",
    "    precision = precision_score(user_item.values.flatten(), user_item_est.flatten())\n",
    "    recall = recall_score(user_item.values.flatten(), user_item_est.flatten())\n",
    "    metric_scores.append([acc, precision, recall])\n",
    "\n",
    "\n",
    "plt.plot(num_latent_feats, metric_scores, label=['Accuracy', 'Precision', 'Recall'])\n",
    "plt.legend()\n",
    "plt.xlabel('Number of Latent Features')\n",
    "plt.title('Metrics vs. Number of Latent Features')"
   ]
  },
  {
   "cell_type": "markdown",
   "metadata": {},
   "source": [
    "Based on the plot, an optimal number of latent features would be around 200. Accuracy and precision reach near-perfect levels early, while recall improves steadily with more features. However, beyond 200, recall shows diminishing returns, indicating that additional features add complexity without significantly enhancing performance. To optimize efficiency and prevent overfitting, we select 200 latent features as a balanced choice for our model."
   ]
  },
  {
   "cell_type": "markdown",
   "metadata": {},
   "source": [
    "#### Generating a List of Similar Article Id's"
   ]
  },
  {
   "cell_type": "code",
   "execution_count": 52,
   "metadata": {},
   "outputs": [],
   "source": [
    "from sklearn.metrics.pairwise import cosine_similarity\n",
    "import numpy as np\n",
    "\n",
    "def get_svd_similar_article_ids(article_id, vt, user_item, include_similarity=False):\n",
    "    \"\"\"\n",
    "    INPUT:\n",
    "    article_id - (int) an article id\n",
    "    vt - (numpy array) vt matrix from SVD\n",
    "    user_item - (pandas dataframe) matrix of users by articles: \n",
    "                1's when a user has interacted with an article, 0 otherwise\n",
    "    include_similarity - (bool) whether to include the similarity in the output\n",
    "    \n",
    "    OUTPUT:\n",
    "    article_ids - (list) a list of article ids that are similar based on SVD factorization\n",
    "    \n",
    "    Description:\n",
    "    Returns a list of article ids similar to the given article_id using cosine similarity.\n",
    "    \"\"\"\n",
    "    # Get the list of article ids\n",
    "    article_ids = user_item.columns.tolist()\n",
    "    \n",
    "    # Find the index of the article_id in the user_item matrix\n",
    "    if article_id not in article_ids:\n",
    "        return []  # Return empty list if article_id is not in dataset\n",
    "    \n",
    "    article_idx = article_ids.index(article_id)\n",
    "\n",
    "    # Compute the cosine similarity matrix (transpose vt to get articles as rows)\n",
    "    cos_sim = cosine_similarity(vt.T)\n",
    "\n",
    "    # Get similarity scores for the given article\n",
    "    sim_scores = list(enumerate(cos_sim[article_idx]))\n",
    "\n",
    "    # Sort articles based on similarity scores (excluding the input article)\n",
    "    sim_scores = sorted(sim_scores, key=lambda x: x[1], reverse=True)\n",
    "    \n",
    "    # Get the most similar article ids (excluding the given article_id)\n",
    "    most_similar_items = [(article_ids[idx], score) for idx, score in sim_scores if article_ids[idx] != article_id]\n",
    "\n",
    "    if include_similarity:\n",
    "        return most_similar_items  # List of tuples (article_id, similarity_score)\n",
    "    \n",
    "    return [article[0] for article in most_similar_items]  # List of article IDs only\n"
   ]
  },
  {
   "cell_type": "code",
   "execution_count": 53,
   "metadata": {},
   "outputs": [],
   "source": [
    "# Creating a vt_new matrix with 200 latent features\n",
    "k = 200\n",
    "vt_new = v[:k, :]"
   ]
  },
  {
   "cell_type": "code",
   "execution_count": 54,
   "metadata": {},
   "outputs": [
    {
     "name": "stdout",
     "output_type": "stream",
     "text": [
      "Current article: analyze ny restaurant data using spark in dsx\n"
     ]
    }
   ],
   "source": [
    "# What is the article name for article_id 4?\n",
    "print(\"Current article:\", get_article_names([4], df=df)[0])"
   ]
  },
  {
   "cell_type": "code",
   "execution_count": 55,
   "metadata": {},
   "outputs": [
    {
     "data": {
      "text/plain": [
       "[1199, 1068, 486, 1202, 176, 1120, 244, 793, 58, 132]"
      ]
     },
     "execution_count": 55,
     "metadata": {},
     "output_type": "execute_result"
    }
   ],
   "source": [
    "# What are the top 10 most similar articles to article_id 4?\n",
    "rec_articles = get_svd_similar_article_ids(4, vt_new, user_item=user_item)[:10]\n",
    "rec_articles"
   ]
  },
  {
   "cell_type": "code",
   "execution_count": 56,
   "metadata": {},
   "outputs": [
    {
     "data": {
      "text/plain": [
       "['advancements in the spark community',\n",
       " 'collecting data science cheat sheets',\n",
       " 'top analytics tools in 2016',\n",
       " 'notebooks: a power tool for data scientists',\n",
       " 'use spark r to load and analyze data',\n",
       " '10 powerful features on watson data platform, no coding necessary',\n",
       " 'airbnb data for analytics: athens reviews',\n",
       " 'airbnb data for analytics: paris calendar',\n",
       " 'country statistics: crude oil - exports',\n",
       " 'country statistics: crude oil - proved reserves']"
      ]
     },
     "execution_count": 56,
     "metadata": {},
     "output_type": "execute_result"
    }
   ],
   "source": [
    "# What are the top 10 most similar articles to article_id 4?\n",
    "get_article_names(rec_articles, df=df)"
   ]
  },
  {
   "cell_type": "code",
   "execution_count": 57,
   "metadata": {},
   "outputs": [
    {
     "name": "stdout",
     "output_type": "stream",
     "text": [
      "That's right!  Great job!\n"
     ]
    }
   ],
   "source": [
    "assert set(rec_articles) == {1199, 1068, 486, 1202, 176, 1120, 244, 793, 58, 132}, \"Oops! Your the get_svd_similar_article_ids function doesn't work quite how we expect.\"\n",
    "print(\"That's right!  Great job!\")"
   ]
  },
  {
   "cell_type": "markdown",
   "metadata": {},
   "source": [
    "## Our Approach\n",
    "\n",
    "**New User With No History**  \n",
    "- Due to a lack of history, content-based and collaborative filtering will not be possible. In this case, it would be best to use **popularity-based recommendations**, where the most popular articles are suggested. This is a safe approach as it simply lists some of the most popular articles on the platform.  \n",
    "- Another alternative is **knowledge-based recommendations**, where at the time of signup we can collect the users intrest and priorotise it.\n",
    "\n",
    "**New User With Little History**  \n",
    "- For users with limited interaction history, we will not use popularity-based recommendations, as it would be too ambiguous. We will also avoid collaborative filtering as it requires a significant number of interactions to effectively identify similar users.  \n",
    "- Instead, we can use a **content-based recommendation system**, which analyzes article titles using TF-IDF, forms clusters, and recommends articles from within the same cluster.\n",
    "\n",
    "**Users With a Lot of History**  \n",
    "- For users with a substantial interaction history, **collaborative filtering** is the most effective approach. By analyzing past interactions, we can identify users with similar interests and recommend articles based on their reading patterns.  \n",
    "- A **hybrid approach** can further improve accuracy by integrating content-based filtering with collaborative filtering to ensure diverse and relevant recommendations."
   ]
  },
  {
   "cell_type": "code",
   "execution_count": 58,
   "metadata": {},
   "outputs": [
    {
     "name": "stderr",
     "output_type": "stream",
     "text": [
      "[NbConvertApp] Converting notebook Recommendations_with_IBM.ipynb to html\n",
      "[NbConvertApp] WARNING | Alternative text is missing on 3 image(s).\n",
      "[NbConvertApp] Writing 526438 bytes to Recommendations_with_IBM.html\n"
     ]
    },
    {
     "data": {
      "text/plain": [
       "0"
      ]
     },
     "execution_count": 58,
     "metadata": {},
     "output_type": "execute_result"
    }
   ],
   "source": [
    "from subprocess import call\n",
    "call(['python', '-m', 'nbconvert', '--to', 'html', 'Recommendations_with_IBM.ipynb'])\n"
   ]
  },
  {
   "cell_type": "code",
   "execution_count": null,
   "metadata": {},
   "outputs": [],
   "source": []
  }
 ],
 "metadata": {
  "kernelspec": {
   "display_name": "Python 3 (ipykernel)",
   "language": "python",
   "name": "python3"
  },
  "language_info": {
   "codemirror_mode": {
    "name": "ipython",
    "version": 3
   },
   "file_extension": ".py",
   "mimetype": "text/x-python",
   "name": "python",
   "nbconvert_exporter": "python",
   "pygments_lexer": "ipython3",
   "version": "3.10.13"
  }
 },
 "nbformat": 4,
 "nbformat_minor": 2
}
